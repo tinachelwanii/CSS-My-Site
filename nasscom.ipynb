{
  "nbformat": 4,
  "nbformat_minor": 0,
  "metadata": {
    "colab": {
      "provenance": [],
      "authorship_tag": "ABX9TyP4EtvEDk7TREpezdwTStar",
      "include_colab_link": true
    },
    "kernelspec": {
      "name": "ir",
      "display_name": "R"
    },
    "language_info": {
      "name": "R"
    }
  },
  "cells": [
    {
      "cell_type": "markdown",
      "metadata": {
        "id": "view-in-github",
        "colab_type": "text"
      },
      "source": [
        "<a href=\"https://colab.research.google.com/github/tinachelwanii/CSS-My-Site/blob/main/nasscom.ipynb\" target=\"_parent\"><img src=\"https://colab.research.google.com/assets/colab-badge.svg\" alt=\"Open In Colab\"/></a>"
      ]
    },
    {
      "cell_type": "code",
      "execution_count": null,
      "metadata": {
        "colab": {
          "base_uri": "https://localhost:8080/"
        },
        "id": "6Wi9Ak2HhJmw",
        "outputId": "82a5f8ae-5962-42e0-a8ac-bc84d952fc2f"
      },
      "outputs": [
        {
          "output_type": "stream",
          "name": "stdout",
          "text": [
            "Enter 1st number:1\n",
            "Enter 2nd number:2\n",
            "Enter 3rd number:3\n",
            "Enter 4th number:4\n",
            "[1] 1\n",
            "[1] 2\n",
            "[1] 3\n",
            "[1] 4\n",
            "[1] \"The sum is: \"\n",
            "The sum is: 10 End"
          ]
        }
      ],
      "source": [
        "{\n",
        "  var1 = readline(\"Enter 1st number:\")\n",
        "  var2 = readline(\"Enter 2nd number:\")\n",
        "  var3 = readline(\"Enter 3rd number:\")\n",
        "  var4 = readline(\"Enter 4th number:\")\n",
        "}\n",
        "var1=as.integer(var1)\n",
        "print(var1)\n",
        "var2=as.integer(var2)\n",
        "print(var2)\n",
        "var3=as.integer(var3)\n",
        "print(var3)\n",
        "var4=as.integer(var4)\n",
        "print(var4)\n",
        "print(\"The sum is: \",var1+var2+var3+var4)\n",
        "cat(\"The sum is:\",var1+var2+var3+var4,\"End\")"
      ]
    },
    {
      "cell_type": "code",
      "source": [
        "d = scan(what= double())\n",
        "s = scan(what = \" \")\n",
        "c = scan(what = character())\n",
        "print(d) #double\n",
        "print(s)\n",
        "print(c)"
      ],
      "metadata": {
        "colab": {
          "base_uri": "https://localhost:8080/"
        },
        "id": "wUnrk175lkLB",
        "outputId": "8c9cf25c-7e3b-4b0b-e343-25529ed22d73"
      },
      "execution_count": null,
      "outputs": [
        {
          "output_type": "stream",
          "name": "stdout",
          "text": [
            "numeric(0)\n",
            "character(0)\n",
            "character(0)\n"
          ]
        }
      ]
    },
    {
      "cell_type": "code",
      "source": [
        "x <- 42\n",
        "z=55\n",
        "45 -> y\n",
        "print(x+y+z)"
      ],
      "metadata": {
        "colab": {
          "base_uri": "https://localhost:8080/"
        },
        "id": "efmd8330mBkD",
        "outputId": "9d744266-edee-455b-be44-fea57082334b"
      },
      "execution_count": null,
      "outputs": [
        {
          "output_type": "stream",
          "name": "stdout",
          "text": [
            "[1] 142\n"
          ]
        }
      ]
    },
    {
      "cell_type": "code",
      "source": [
        "x <- \"R Programming\"\n",
        "print(paste(x,\" is best function inside print()\"))\n",
        "print(paste0(x,\" is best(the paste0 function inside print())\"))\n"
      ],
      "metadata": {
        "colab": {
          "base_uri": "https://localhost:8080/"
        },
        "id": "K_5uNK7cm2u1",
        "outputId": "7918f4a1-27d3-48f5-cf1b-13b3900c653f"
      },
      "execution_count": null,
      "outputs": [
        {
          "output_type": "stream",
          "name": "stdout",
          "text": [
            "[1] \"R Programming  is best function inside print()\"\n",
            "[1] \"R Programming is best(the paste0 function inside print())\"\n"
          ]
        }
      ]
    },
    {
      "cell_type": "code",
      "source": [
        "x = \"R Programming\"\n",
        "x1 = 255\n",
        "x2 = 23.14\n",
        "sprintf(\"is the best %s satistical language\",x)\n",
        "sprintf(\"%d is integer\",x1)\n",
        "sprintf(\"%f is float\",x2)"
      ],
      "metadata": {
        "colab": {
          "base_uri": "https://localhost:8080/",
          "height": 69
        },
        "id": "MLHRhF6LnCKG",
        "outputId": "7619368b-3c50-44d2-869a-d0552f55aa1f"
      },
      "execution_count": null,
      "outputs": [
        {
          "output_type": "display_data",
          "data": {
            "text/html": [
              "'is the best R Programming satistical language'"
            ],
            "text/markdown": "'is the best R Programming satistical language'",
            "text/latex": "'is the best R Programming satistical language'",
            "text/plain": [
              "[1] \"is the best R Programming satistical language\""
            ]
          },
          "metadata": {}
        },
        {
          "output_type": "display_data",
          "data": {
            "text/html": [
              "'255 is integer'"
            ],
            "text/markdown": "'255 is integer'",
            "text/latex": "'255 is integer'",
            "text/plain": [
              "[1] \"255 is integer\""
            ]
          },
          "metadata": {}
        },
        {
          "output_type": "display_data",
          "data": {
            "text/html": [
              "'23.140000 is float'"
            ],
            "text/markdown": "'23.140000 is float'",
            "text/latex": "'23.140000 is float'",
            "text/plain": [
              "[1] \"23.140000 is float\""
            ]
          },
          "metadata": {}
        }
      ]
    },
    {
      "cell_type": "code",
      "source": [
        "x = \"R Programming\"\n",
        "message(\"The best satistical language:\", x)\n",
        "message(\"This is R language\")"
      ],
      "metadata": {
        "colab": {
          "base_uri": "https://localhost:8080/"
        },
        "id": "pJFOkYeLqcr_",
        "outputId": "2ce665c0-7961-4d22-fbd0-25a6f6198537"
      },
      "execution_count": null,
      "outputs": [
        {
          "output_type": "stream",
          "name": "stderr",
          "text": [
            "The best satistical language:R Programming\n",
            "\n",
            "This is R language\n",
            "\n"
          ]
        }
      ]
    },
    {
      "cell_type": "code",
      "source": [
        "x = \"R Programming\"\n",
        "write.table(x,file=\"tina.txt\")\n",
        "write.table(\"the best statistical language\", file = \"my_data2.txt\")"
      ],
      "metadata": {
        "id": "ez15PTGmrgob"
      },
      "execution_count": null,
      "outputs": []
    },
    {
      "cell_type": "code",
      "source": [
        "x <- 155/7\n",
        "print(x,digits = 2)\n",
        "print(x,digits = 3)\n",
        "print(x,digits = 4)\n",
        "print(x,digits = 5)\n",
        "print(x)\n",
        "\n"
      ],
      "metadata": {
        "colab": {
          "base_uri": "https://localhost:8080/"
        },
        "id": "Q0A1M8_TsmIZ",
        "outputId": "bb3f83da-48e2-4e19-900e-ac7d32088108"
      },
      "execution_count": null,
      "outputs": [
        {
          "output_type": "stream",
          "name": "stdout",
          "text": [
            "[1] 22\n",
            "[1] 22.1\n",
            "[1] 22.14\n",
            "[1] 22.143\n",
            "[1] 22.14286\n"
          ]
        }
      ]
    },
    {
      "cell_type": "code",
      "source": [
        "x <- matrix(c(2,NA,5,NA,8,NA,22,67,43),\n",
        "     nrow = 3,byrow = TRUE)\n",
        "\n",
        "     print(x)\n",
        "     print(x, na.print= \"BAD\")"
      ],
      "metadata": {
        "colab": {
          "base_uri": "https://localhost:8080/"
        },
        "id": "okEhlVwj7Snz",
        "outputId": "71c2d015-f01e-4dd1-f185-208d358dd424"
      },
      "execution_count": null,
      "outputs": [
        {
          "output_type": "stream",
          "name": "stdout",
          "text": [
            "     [,1] [,2] [,3]\n",
            "[1,]    2   NA    5\n",
            "[2,]   NA    8   NA\n",
            "[3,]   22   67   43\n",
            "     [,1] [,2] [,3]\n",
            "[1,]    2  BAD    5\n",
            "[2,]  BAD    8  BAD\n",
            "[3,]   22   67   43\n"
          ]
        }
      ]
    },
    {
      "cell_type": "code",
      "source": [
        "x <- 6\n",
        "class(x)"
      ],
      "metadata": {
        "colab": {
          "base_uri": "https://localhost:8080/",
          "height": 34
        },
        "id": "fiWQygDj-Exv",
        "outputId": "1e30439b-4644-42fb-b226-dcf425abc771"
      },
      "execution_count": null,
      "outputs": [
        {
          "output_type": "display_data",
          "data": {
            "text/html": [
              "'numeric'"
            ],
            "text/markdown": "'numeric'",
            "text/latex": "'numeric'",
            "text/plain": [
              "[1] \"numeric\""
            ]
          },
          "metadata": {}
        }
      ]
    },
    {
      "cell_type": "code",
      "source": [
        "s <- \"R Pro\"\n",
        "class(s)"
      ],
      "metadata": {
        "colab": {
          "base_uri": "https://localhost:8080/",
          "height": 34
        },
        "id": "gBRuo_8S-TC-",
        "outputId": "0259de78-edbf-40bf-8b36-d25c4e7d8f98"
      },
      "execution_count": null,
      "outputs": [
        {
          "output_type": "display_data",
          "data": {
            "text/html": [
              "'character'"
            ],
            "text/markdown": "'character'",
            "text/latex": "'character'",
            "text/plain": [
              "[1] \"character\""
            ]
          },
          "metadata": {}
        }
      ]
    },
    {
      "cell_type": "code",
      "source": [
        "x <- c(76,72,56,100,63)\n",
        "class(x)"
      ],
      "metadata": {
        "colab": {
          "base_uri": "https://localhost:8080/",
          "height": 34
        },
        "id": "YgfbAj7_-iFd",
        "outputId": "e869140c-57e4-46e4-a299-d4529923df03"
      },
      "execution_count": null,
      "outputs": [
        {
          "output_type": "display_data",
          "data": {
            "text/html": [
              "'numeric'"
            ],
            "text/markdown": "'numeric'",
            "text/latex": "'numeric'",
            "text/plain": [
              "[1] \"numeric\""
            ]
          },
          "metadata": {}
        }
      ]
    },
    {
      "cell_type": "code",
      "source": [
        "x <- c(76,72,56,100.25,63.99,\"Data Science\")\n",
        "x"
      ],
      "metadata": {
        "colab": {
          "base_uri": "https://localhost:8080/",
          "height": 34
        },
        "id": "v4VmxD0u-tkn",
        "outputId": "4b79713f-5052-4a7d-afe7-d011546d3295"
      },
      "execution_count": null,
      "outputs": [
        {
          "output_type": "display_data",
          "data": {
            "text/html": [
              "<style>\n",
              ".list-inline {list-style: none; margin:0; padding: 0}\n",
              ".list-inline>li {display: inline-block}\n",
              ".list-inline>li:not(:last-child)::after {content: \"\\00b7\"; padding: 0 .5ex}\n",
              "</style>\n",
              "<ol class=list-inline><li>'76'</li><li>'72'</li><li>'56'</li><li>'100.25'</li><li>'63.99'</li><li>'Data Science'</li></ol>\n"
            ],
            "text/markdown": "1. '76'\n2. '72'\n3. '56'\n4. '100.25'\n5. '63.99'\n6. 'Data Science'\n\n\n",
            "text/latex": "\\begin{enumerate*}\n\\item '76'\n\\item '72'\n\\item '56'\n\\item '100.25'\n\\item '63.99'\n\\item 'Data Science'\n\\end{enumerate*}\n",
            "text/plain": [
              "[1] \"76\"           \"72\"           \"56\"           \"100.25\"       \"63.99\"       \n",
              "[6] \"Data Science\""
            ]
          },
          "metadata": {}
        }
      ]
    },
    {
      "cell_type": "code",
      "source": [
        "v <- TRUE\n",
        "print(class(v))\n",
        "print(v)"
      ],
      "metadata": {
        "colab": {
          "base_uri": "https://localhost:8080/"
        },
        "id": "xM8_i_s0_wVj",
        "outputId": "e792baa0-9ab9-4217-9cf1-bfde24ccb2e2"
      },
      "execution_count": null,
      "outputs": [
        {
          "output_type": "stream",
          "name": "stdout",
          "text": [
            "[1] \"logical\"\n",
            "[1] TRUE\n"
          ]
        }
      ]
    },
    {
      "cell_type": "code",
      "source": [
        "v <- 2022L\n",
        "print(class(v))"
      ],
      "metadata": {
        "colab": {
          "base_uri": "https://localhost:8080/"
        },
        "id": "AQHNrx5iASkr",
        "outputId": "6261a767-fb44-434c-ab7e-6601955b2478"
      },
      "execution_count": null,
      "outputs": [
        {
          "output_type": "stream",
          "name": "stdout",
          "text": [
            "[1] \"integer\"\n"
          ]
        }
      ]
    },
    {
      "cell_type": "code",
      "source": [
        "v <- \"TRUE\"\n",
        "print(class(v))"
      ],
      "metadata": {
        "colab": {
          "base_uri": "https://localhost:8080/"
        },
        "id": "fPRbi3WGAlGb",
        "outputId": "d9c6a103-e471-4452-b168-1f27d5b7e821"
      },
      "execution_count": null,
      "outputs": [
        {
          "output_type": "stream",
          "name": "stdout",
          "text": [
            "[1] \"character\"\n"
          ]
        }
      ]
    },
    {
      "cell_type": "code",
      "source": [
        "v <- charToRaw(\"Hello\")\n",
        "print(class(v))\n",
        "v"
      ],
      "metadata": {
        "colab": {
          "base_uri": "https://localhost:8080/",
          "height": 52
        },
        "id": "8OLj6CPPAuWQ",
        "outputId": "b2dc5e2e-e124-40c4-b201-b1b1063286bf"
      },
      "execution_count": null,
      "outputs": [
        {
          "output_type": "stream",
          "name": "stdout",
          "text": [
            "[1] \"raw\"\n"
          ]
        },
        {
          "output_type": "display_data",
          "data": {
            "text/plain": [
              "[1] 48 65 6c 6c 6f"
            ]
          },
          "metadata": {}
        }
      ]
    },
    {
      "cell_type": "code",
      "source": [
        "apple <- c(\"red\",\"green\",\"yellow\")\n",
        "print(apple)\n",
        "\n",
        "print(class(apple))"
      ],
      "metadata": {
        "colab": {
          "base_uri": "https://localhost:8080/"
        },
        "id": "e-ynvbsZB4Dy",
        "outputId": "71a729ac-4bf4-4b3f-b42e-aae4958f5788"
      },
      "execution_count": null,
      "outputs": [
        {
          "output_type": "stream",
          "name": "stdout",
          "text": [
            "[1] \"red\"    \"green\"  \"yellow\"\n",
            "[1] \"character\"\n"
          ]
        }
      ]
    },
    {
      "cell_type": "code",
      "source": [
        "list1 <- list(c(2,5,3),21.3,sin)\n",
        "print(list1)"
      ],
      "metadata": {
        "colab": {
          "base_uri": "https://localhost:8080/"
        },
        "id": "WNSLxDv-Cadv",
        "outputId": "36d4f954-5757-449c-cc5d-b7eeb72fc29e"
      },
      "execution_count": null,
      "outputs": [
        {
          "output_type": "stream",
          "name": "stdout",
          "text": [
            "[[1]]\n",
            "[1] 2 5 3\n",
            "\n",
            "[[2]]\n",
            "[1] 21.3\n",
            "\n",
            "[[3]]\n",
            "function (x)  .Primitive(\"sin\")\n",
            "\n"
          ]
        }
      ]
    },
    {
      "cell_type": "code",
      "source": [
        "M = matrix( c('a','a','b','c','b','a'),nrow = 3,ncol=2,byrow = FALSE)\n",
        "print(M)"
      ],
      "metadata": {
        "colab": {
          "base_uri": "https://localhost:8080/"
        },
        "id": "k4hvwrU1DB_U",
        "outputId": "bb869825-bba2-4485-f5ea-0b0b762470be"
      },
      "execution_count": null,
      "outputs": [
        {
          "output_type": "stream",
          "name": "stdout",
          "text": [
            "     [,1] [,2]\n",
            "[1,] \"a\"  \"c\" \n",
            "[2,] \"a\"  \"b\" \n",
            "[3,] \"b\"  \"a\" \n"
          ]
        }
      ]
    },
    {
      "cell_type": "code",
      "source": [
        "a <- array(c('green','yellow'),dim=c(4,4))\n",
        "print(a)"
      ],
      "metadata": {
        "colab": {
          "base_uri": "https://localhost:8080/"
        },
        "id": "hyRvObdtEslG",
        "outputId": "cd839793-380c-4189-e4e6-e1d1b66b9c25"
      },
      "execution_count": null,
      "outputs": [
        {
          "output_type": "stream",
          "name": "stdout",
          "text": [
            "     [,1]     [,2]     [,3]     [,4]    \n",
            "[1,] \"green\"  \"green\"  \"green\"  \"green\" \n",
            "[2,] \"yellow\" \"yellow\" \"yellow\" \"yellow\"\n",
            "[3,] \"green\"  \"green\"  \"green\"  \"green\" \n",
            "[4,] \"yellow\" \"yellow\" \"yellow\" \"yellow\"\n"
          ]
        }
      ]
    },
    {
      "cell_type": "code",
      "source": [
        "apple_colors=c('green','green','yellow','red','red','red','green')\n",
        "factor_apple=factor(apple_colors)\n",
        "print(factor_apple)\n",
        "print(nlevels(factor_apple))"
      ],
      "metadata": {
        "colab": {
          "base_uri": "https://localhost:8080/"
        },
        "id": "OioLYpkwFwc2",
        "outputId": "76a667fb-49d3-42de-db55-8cb4ca57193b"
      },
      "execution_count": null,
      "outputs": [
        {
          "output_type": "stream",
          "name": "stdout",
          "text": [
            "[1] green  green  yellow red    red    red    green \n",
            "Levels: green red yellow\n",
            "[1] 3\n"
          ]
        }
      ]
    },
    {
      "cell_type": "code",
      "source": [
        "BMI <- data.frame(\n",
        "  gender = c(\"Male\",\"Male\",\"Female\"),\n",
        "  height = c(152,171.5,165),\n",
        "  weight = c(81,93,78),\n",
        "  Age = c(42,38,26)\n",
        ")\n",
        "print(BMI)\n"
      ],
      "metadata": {
        "colab": {
          "base_uri": "https://localhost:8080/"
        },
        "id": "mL5MYWePH7Gk",
        "outputId": "151896ad-3615-4276-b574-cba45cb21ce2"
      },
      "execution_count": null,
      "outputs": [
        {
          "output_type": "stream",
          "name": "stdout",
          "text": [
            "  gender height weight Age\n",
            "1   Male  152.0     81  42\n",
            "2   Male  171.5     93  38\n",
            "3 Female  165.0     78  26\n"
          ]
        }
      ]
    },
    {
      "cell_type": "code",
      "source": [
        "input_read2 <- readline()\n",
        "input_read2 <- strsplit(input_read2,\"e\")\n",
        "input_read2"
      ],
      "metadata": {
        "colab": {
          "base_uri": "https://localhost:8080/",
          "height": 80
        },
        "id": "oRwyJIACJlbc",
        "outputId": "50609eb7-9104-4c39-a065-87d73f88bc95"
      },
      "execution_count": null,
      "outputs": [
        {
          "name": "stdout",
          "output_type": "stream",
          "text": [
            "welcome to nasscom session\n"
          ]
        },
        {
          "output_type": "display_data",
          "data": {
            "text/html": [
              "<ol>\n",
              "\t<li><style>\n",
              ".list-inline {list-style: none; margin:0; padding: 0}\n",
              ".list-inline>li {display: inline-block}\n",
              ".list-inline>li:not(:last-child)::after {content: \"\\00b7\"; padding: 0 .5ex}\n",
              "</style>\n",
              "<ol class=list-inline><li>'w'</li><li>'lcom'</li><li>' to nasscom s'</li><li>'ssion'</li></ol>\n",
              "</li>\n",
              "</ol>\n"
            ],
            "text/markdown": "1. 1. 'w'\n2. 'lcom'\n3. ' to nasscom s'\n4. 'ssion'\n\n\n\n\n\n",
            "text/latex": "\\begin{enumerate}\n\\item \\begin{enumerate*}\n\\item 'w'\n\\item 'lcom'\n\\item ' to nasscom s'\n\\item 'ssion'\n\\end{enumerate*}\n\n\\end{enumerate}\n",
            "text/plain": [
              "[[1]]\n",
              "[1] \"w\"             \"lcom\"          \" to nasscom s\" \"ssion\"        \n"
            ]
          },
          "metadata": {}
        }
      ]
    },
    {
      "cell_type": "code",
      "source": [
        "input_read2 <- readline()\n",
        "input_read2 <- strsplit(input_read2,\"e\")\n",
        "input_read2"
      ],
      "metadata": {
        "id": "-PJfHSh7KsIs"
      },
      "execution_count": null,
      "outputs": []
    },
    {
      "cell_type": "code",
      "source": [
        "input_read <- as.integer(readline())\n",
        "input_read+1\n"
      ],
      "metadata": {
        "colab": {
          "base_uri": "https://localhost:8080/",
          "height": 52
        },
        "id": "bOrvnJM5N-Xm",
        "outputId": "b6b75360-74bc-4728-98a3-5a4c1395a3e3"
      },
      "execution_count": null,
      "outputs": [
        {
          "name": "stdout",
          "output_type": "stream",
          "text": [
            "2023\n"
          ]
        },
        {
          "output_type": "display_data",
          "data": {
            "text/html": [
              "2024"
            ],
            "text/markdown": "2024",
            "text/latex": "2024",
            "text/plain": [
              "[1] 2024"
            ]
          },
          "metadata": {}
        }
      ]
    },
    {
      "cell_type": "code",
      "source": [
        "weight <- as.numeric(readline())\n",
        "weight+1.5\n"
      ],
      "metadata": {
        "colab": {
          "base_uri": "https://localhost:8080/",
          "height": 52
        },
        "id": "u76xYjjdQyMv",
        "outputId": "3a05c203-a675-4b90-b62a-89de9e55dcf3"
      },
      "execution_count": null,
      "outputs": [
        {
          "name": "stdout",
          "output_type": "stream",
          "text": [
            "30\n"
          ]
        },
        {
          "output_type": "display_data",
          "data": {
            "text/html": [
              "31.5"
            ],
            "text/markdown": "31.5",
            "text/latex": "31.5",
            "text/plain": [
              "[1] 31.5"
            ]
          },
          "metadata": {}
        }
      ]
    },
    {
      "cell_type": "code",
      "source": [
        "pi"
      ],
      "metadata": {
        "colab": {
          "base_uri": "https://localhost:8080/",
          "height": 34
        },
        "id": "ojuzYfGOREDl",
        "outputId": "40bbd941-e6ba-4b8f-af36-7259800b61ab"
      },
      "execution_count": null,
      "outputs": [
        {
          "output_type": "display_data",
          "data": {
            "text/html": [
              "3.14159265358979"
            ],
            "text/markdown": "3.14159265358979",
            "text/latex": "3.14159265358979",
            "text/plain": [
              "[1] 3.141593"
            ]
          },
          "metadata": {}
        }
      ]
    },
    {
      "cell_type": "code",
      "source": [
        "10**2"
      ],
      "metadata": {
        "colab": {
          "base_uri": "https://localhost:8080/",
          "height": 34
        },
        "id": "kL_ZdYZbRHfs",
        "outputId": "14fdc326-f87f-44d0-f8b8-acecbf4cb325"
      },
      "execution_count": null,
      "outputs": [
        {
          "output_type": "display_data",
          "data": {
            "text/html": [
              "100"
            ],
            "text/markdown": "100",
            "text/latex": "100",
            "text/plain": [
              "[1] 100"
            ]
          },
          "metadata": {}
        }
      ]
    },
    {
      "cell_type": "code",
      "source": [
        "r=5\n",
        "area_of_circle=pi*(r**2)\n",
        "print(area_of_circle)\n"
      ],
      "metadata": {
        "colab": {
          "base_uri": "https://localhost:8080/"
        },
        "id": "5deWv1dvRNNg",
        "outputId": "99999ea7-782f-48af-8f49-bf4af3856391"
      },
      "execution_count": null,
      "outputs": [
        {
          "output_type": "stream",
          "name": "stdout",
          "text": [
            "[1] 78.53982\n"
          ]
        }
      ]
    },
    {
      "cell_type": "code",
      "source": [
        "print(pi)\n",
        "print(month.name)\n",
        "print(letters)\n",
        "print(LETTERS)\n",
        "print(month.abb)"
      ],
      "metadata": {
        "colab": {
          "base_uri": "https://localhost:8080/"
        },
        "id": "TtMcLoJhSKD7",
        "outputId": "819e9b59-9fdf-4d73-96b2-f0861b884954"
      },
      "execution_count": null,
      "outputs": [
        {
          "output_type": "stream",
          "name": "stdout",
          "text": [
            "[1] 3.141593\n",
            " [1] \"January\"   \"February\"  \"March\"     \"April\"     \"May\"       \"June\"     \n",
            " [7] \"July\"      \"August\"    \"September\" \"October\"   \"November\"  \"December\" \n",
            " [1] \"a\" \"b\" \"c\" \"d\" \"e\" \"f\" \"g\" \"h\" \"i\" \"j\" \"k\" \"l\" \"m\" \"n\" \"o\" \"p\" \"q\" \"r\" \"s\"\n",
            "[20] \"t\" \"u\" \"v\" \"w\" \"x\" \"y\" \"z\"\n",
            " [1] \"A\" \"B\" \"C\" \"D\" \"E\" \"F\" \"G\" \"H\" \"I\" \"J\" \"K\" \"L\" \"M\" \"N\" \"O\" \"P\" \"Q\" \"R\" \"S\"\n",
            "[20] \"T\" \"U\" \"V\" \"W\" \"X\" \"Y\" \"Z\"\n",
            " [1] \"Jan\" \"Feb\" \"Mar\" \"Apr\" \"May\" \"Jun\" \"Jul\" \"Aug\" \"Sep\" \"Oct\" \"Nov\" \"Dec\"\n"
          ]
        }
      ]
    },
    {
      "cell_type": "code",
      "source": [
        "5+5\n",
        "5-5\n",
        "5*5\n",
        "5**3\n",
        "35/10\n",
        "5*3\n",
        "5%%2\n",
        "35%/%10\n"
      ],
      "metadata": {
        "colab": {
          "base_uri": "https://localhost:8080/",
          "height": 156
        },
        "id": "Lpm8ypjkSpty",
        "outputId": "5983e191-7bd0-4825-b9ec-a86952444d9a"
      },
      "execution_count": null,
      "outputs": [
        {
          "output_type": "display_data",
          "data": {
            "text/html": [
              "10"
            ],
            "text/markdown": "10",
            "text/latex": "10",
            "text/plain": [
              "[1] 10"
            ]
          },
          "metadata": {}
        },
        {
          "output_type": "display_data",
          "data": {
            "text/html": [
              "0"
            ],
            "text/markdown": "0",
            "text/latex": "0",
            "text/plain": [
              "[1] 0"
            ]
          },
          "metadata": {}
        },
        {
          "output_type": "display_data",
          "data": {
            "text/html": [
              "25"
            ],
            "text/markdown": "25",
            "text/latex": "25",
            "text/plain": [
              "[1] 25"
            ]
          },
          "metadata": {}
        },
        {
          "output_type": "display_data",
          "data": {
            "text/html": [
              "125"
            ],
            "text/markdown": "125",
            "text/latex": "125",
            "text/plain": [
              "[1] 125"
            ]
          },
          "metadata": {}
        },
        {
          "output_type": "display_data",
          "data": {
            "text/html": [
              "3.5"
            ],
            "text/markdown": "3.5",
            "text/latex": "3.5",
            "text/plain": [
              "[1] 3.5"
            ]
          },
          "metadata": {}
        },
        {
          "output_type": "display_data",
          "data": {
            "text/html": [
              "15"
            ],
            "text/markdown": "15",
            "text/latex": "15",
            "text/plain": [
              "[1] 15"
            ]
          },
          "metadata": {}
        },
        {
          "output_type": "display_data",
          "data": {
            "text/html": [
              "1"
            ],
            "text/markdown": "1",
            "text/latex": "1",
            "text/plain": [
              "[1] 1"
            ]
          },
          "metadata": {}
        },
        {
          "output_type": "display_data",
          "data": {
            "text/html": [
              "3"
            ],
            "text/markdown": "3",
            "text/latex": "3",
            "text/plain": [
              "[1] 3"
            ]
          },
          "metadata": {}
        }
      ]
    },
    {
      "cell_type": "code",
      "source": [
        "#relational operator\n",
        "5>=2"
      ],
      "metadata": {
        "id": "oO6oY6m0TpbP"
      },
      "execution_count": null,
      "outputs": []
    },
    {
      "cell_type": "code",
      "source": [
        "Sys.Date()\n",
        "Sys.time()"
      ],
      "metadata": {
        "colab": {
          "base_uri": "https://localhost:8080/",
          "height": 52
        },
        "id": "VZZ0pbw6Txli",
        "outputId": "f4c01521-feb7-4880-a358-255f3afc960d"
      },
      "execution_count": null,
      "outputs": [
        {
          "output_type": "display_data",
          "data": {
            "text/html": [
              "<time datetime=\"2024-02-07\">2024-02-07</time>"
            ],
            "text/markdown": "2024-02-07",
            "text/latex": "2024-02-07",
            "text/plain": [
              "[1] \"2024-02-07\""
            ]
          },
          "metadata": {}
        },
        {
          "output_type": "display_data",
          "data": {
            "text/plain": [
              "[1] \"2024-02-07 06:50:57 UTC\""
            ]
          },
          "metadata": {}
        }
      ]
    },
    {
      "cell_type": "code",
      "source": [
        "Sys.setenv(TZ = \"Asia/Kolkata\")\n",
        "\n",
        "current_time_ist <- Sys.time()\n",
        "\n",
        "print(current_time_ist)\n"
      ],
      "metadata": {
        "colab": {
          "base_uri": "https://localhost:8080/"
        },
        "id": "Cen78PfdWID6",
        "outputId": "521d9025-3bf0-45a6-b27b-ac471fad780e"
      },
      "execution_count": null,
      "outputs": [
        {
          "output_type": "stream",
          "name": "stdout",
          "text": [
            "[1] \"2024-02-07 12:25:28 IST\"\n"
          ]
        }
      ]
    },
    {
      "cell_type": "code",
      "source": [
        "nchar(\"R language\")"
      ],
      "metadata": {
        "colab": {
          "base_uri": "https://localhost:8080/",
          "height": 34
        },
        "id": "Y9mW0Ej-VcNZ",
        "outputId": "5b53964e-8870-4457-a9ef-aa54b4126c39"
      },
      "execution_count": null,
      "outputs": [
        {
          "output_type": "display_data",
          "data": {
            "text/html": [
              "10"
            ],
            "text/markdown": "10",
            "text/latex": "10",
            "text/plain": [
              "[1] 10"
            ]
          },
          "metadata": {}
        }
      ]
    },
    {
      "cell_type": "code",
      "source": [
        "sqrt(3)"
      ],
      "metadata": {
        "colab": {
          "base_uri": "https://localhost:8080/",
          "height": 34
        },
        "id": "WkBemlEjViMa",
        "outputId": "16f977ef-bbb1-43f8-ab00-cec368ebffbb"
      },
      "execution_count": null,
      "outputs": [
        {
          "output_type": "display_data",
          "data": {
            "text/html": [
              "1.73205080756888"
            ],
            "text/markdown": "1.73205080756888",
            "text/latex": "1.73205080756888",
            "text/plain": [
              "[1] 1.732051"
            ]
          },
          "metadata": {}
        }
      ]
    },
    {
      "cell_type": "code",
      "source": [
        "log(5)\n",
        "log(5, base =3)\n",
        "log10(5)\n",
        "log2(5)"
      ],
      "metadata": {
        "colab": {
          "base_uri": "https://localhost:8080/",
          "height": 86
        },
        "id": "uZgGHMOZXuEl",
        "outputId": "98df7053-85b6-40df-d2b1-199f3cc2c3d7"
      },
      "execution_count": null,
      "outputs": [
        {
          "output_type": "display_data",
          "data": {
            "text/html": [
              "1.6094379124341"
            ],
            "text/markdown": "1.6094379124341",
            "text/latex": "1.6094379124341",
            "text/plain": [
              "[1] 1.609438"
            ]
          },
          "metadata": {}
        },
        {
          "output_type": "display_data",
          "data": {
            "text/html": [
              "1.46497352071793"
            ],
            "text/markdown": "1.46497352071793",
            "text/latex": "1.46497352071793",
            "text/plain": [
              "[1] 1.464974"
            ]
          },
          "metadata": {}
        },
        {
          "output_type": "display_data",
          "data": {
            "text/html": [
              "0.698970004336019"
            ],
            "text/markdown": "0.698970004336019",
            "text/latex": "0.698970004336019",
            "text/plain": [
              "[1] 0.69897"
            ]
          },
          "metadata": {}
        },
        {
          "output_type": "display_data",
          "data": {
            "text/html": [
              "2.32192809488736"
            ],
            "text/markdown": "2.32192809488736",
            "text/latex": "2.32192809488736",
            "text/plain": [
              "[1] 2.321928"
            ]
          },
          "metadata": {}
        }
      ]
    },
    {
      "cell_type": "code",
      "source": [
        "dir()"
      ],
      "metadata": {
        "colab": {
          "base_uri": "https://localhost:8080/",
          "height": 34
        },
        "id": "gMuISfIQYA4N",
        "outputId": "2979a8e1-403e-459d-8c1d-7932c608503b"
      },
      "execution_count": null,
      "outputs": [
        {
          "output_type": "display_data",
          "data": {
            "text/html": [
              "'sample_data'"
            ],
            "text/markdown": "'sample_data'",
            "text/latex": "'sample\\_data'",
            "text/plain": [
              "[1] \"sample_data\""
            ]
          },
          "metadata": {}
        }
      ]
    },
    {
      "cell_type": "code",
      "source": [
        "ls()\n",
        "objects()"
      ],
      "metadata": {
        "colab": {
          "base_uri": "https://localhost:8080/",
          "height": 52
        },
        "id": "yGbB0YH5YRjy",
        "outputId": "cfc3ccc1-db51-4a18-860f-4526e00681a6"
      },
      "execution_count": null,
      "outputs": [
        {
          "output_type": "display_data",
          "data": {
            "text/html": [
              "<style>\n",
              ".list-inline {list-style: none; margin:0; padding: 0}\n",
              ".list-inline>li {display: inline-block}\n",
              ".list-inline>li:not(:last-child)::after {content: \"\\00b7\"; padding: 0 .5ex}\n",
              "</style>\n",
              "<ol class=list-inline><li>'area_of_circle'</li><li>'current_time_ist'</li><li>'input_read'</li><li>'pb.date'</li><li>'r'</li><li>'weight'</li></ol>\n"
            ],
            "text/markdown": "1. 'area_of_circle'\n2. 'current_time_ist'\n3. 'input_read'\n4. 'pb.date'\n5. 'r'\n6. 'weight'\n\n\n",
            "text/latex": "\\begin{enumerate*}\n\\item 'area\\_of\\_circle'\n\\item 'current\\_time\\_ist'\n\\item 'input\\_read'\n\\item 'pb.date'\n\\item 'r'\n\\item 'weight'\n\\end{enumerate*}\n",
            "text/plain": [
              "[1] \"area_of_circle\"   \"current_time_ist\" \"input_read\"       \"pb.date\"         \n",
              "[5] \"r\"                \"weight\"          "
            ]
          },
          "metadata": {}
        },
        {
          "output_type": "display_data",
          "data": {
            "text/html": [
              "<style>\n",
              ".list-inline {list-style: none; margin:0; padding: 0}\n",
              ".list-inline>li {display: inline-block}\n",
              ".list-inline>li:not(:last-child)::after {content: \"\\00b7\"; padding: 0 .5ex}\n",
              "</style>\n",
              "<ol class=list-inline><li>'area_of_circle'</li><li>'current_time_ist'</li><li>'input_read'</li><li>'pb.date'</li><li>'r'</li><li>'weight'</li></ol>\n"
            ],
            "text/markdown": "1. 'area_of_circle'\n2. 'current_time_ist'\n3. 'input_read'\n4. 'pb.date'\n5. 'r'\n6. 'weight'\n\n\n",
            "text/latex": "\\begin{enumerate*}\n\\item 'area\\_of\\_circle'\n\\item 'current\\_time\\_ist'\n\\item 'input\\_read'\n\\item 'pb.date'\n\\item 'r'\n\\item 'weight'\n\\end{enumerate*}\n",
            "text/plain": [
              "[1] \"area_of_circle\"   \"current_time_ist\" \"input_read\"       \"pb.date\"         \n",
              "[5] \"r\"                \"weight\"          "
            ]
          },
          "metadata": {}
        }
      ]
    },
    {
      "cell_type": "code",
      "source": [
        "a <- c(2,3,4)\n",
        "b <- c(10,20,10)\n",
        "a+b\n",
        "a*b\n",
        "a/b\n",
        "a^2"
      ],
      "metadata": {
        "colab": {
          "base_uri": "https://localhost:8080/",
          "height": 86
        },
        "id": "NYR-OzqSYvYi",
        "outputId": "2d7e688a-b270-4250-ea19-b1b9a9668b84"
      },
      "execution_count": null,
      "outputs": [
        {
          "output_type": "display_data",
          "data": {
            "text/html": [
              "<style>\n",
              ".list-inline {list-style: none; margin:0; padding: 0}\n",
              ".list-inline>li {display: inline-block}\n",
              ".list-inline>li:not(:last-child)::after {content: \"\\00b7\"; padding: 0 .5ex}\n",
              "</style>\n",
              "<ol class=list-inline><li>12</li><li>23</li><li>14</li></ol>\n"
            ],
            "text/markdown": "1. 12\n2. 23\n3. 14\n\n\n",
            "text/latex": "\\begin{enumerate*}\n\\item 12\n\\item 23\n\\item 14\n\\end{enumerate*}\n",
            "text/plain": [
              "[1] 12 23 14"
            ]
          },
          "metadata": {}
        },
        {
          "output_type": "display_data",
          "data": {
            "text/html": [
              "<style>\n",
              ".list-inline {list-style: none; margin:0; padding: 0}\n",
              ".list-inline>li {display: inline-block}\n",
              ".list-inline>li:not(:last-child)::after {content: \"\\00b7\"; padding: 0 .5ex}\n",
              "</style>\n",
              "<ol class=list-inline><li>20</li><li>60</li><li>40</li></ol>\n"
            ],
            "text/markdown": "1. 20\n2. 60\n3. 40\n\n\n",
            "text/latex": "\\begin{enumerate*}\n\\item 20\n\\item 60\n\\item 40\n\\end{enumerate*}\n",
            "text/plain": [
              "[1] 20 60 40"
            ]
          },
          "metadata": {}
        },
        {
          "output_type": "display_data",
          "data": {
            "text/html": [
              "<style>\n",
              ".list-inline {list-style: none; margin:0; padding: 0}\n",
              ".list-inline>li {display: inline-block}\n",
              ".list-inline>li:not(:last-child)::after {content: \"\\00b7\"; padding: 0 .5ex}\n",
              "</style>\n",
              "<ol class=list-inline><li>0.2</li><li>0.15</li><li>0.4</li></ol>\n"
            ],
            "text/markdown": "1. 0.2\n2. 0.15\n3. 0.4\n\n\n",
            "text/latex": "\\begin{enumerate*}\n\\item 0.2\n\\item 0.15\n\\item 0.4\n\\end{enumerate*}\n",
            "text/plain": [
              "[1] 0.20 0.15 0.40"
            ]
          },
          "metadata": {}
        },
        {
          "output_type": "display_data",
          "data": {
            "text/html": [
              "<style>\n",
              ".list-inline {list-style: none; margin:0; padding: 0}\n",
              ".list-inline>li {display: inline-block}\n",
              ".list-inline>li:not(:last-child)::after {content: \"\\00b7\"; padding: 0 .5ex}\n",
              "</style>\n",
              "<ol class=list-inline><li>4</li><li>9</li><li>16</li></ol>\n"
            ],
            "text/markdown": "1. 4\n2. 9\n3. 16\n\n\n",
            "text/latex": "\\begin{enumerate*}\n\\item 4\n\\item 9\n\\item 16\n\\end{enumerate*}\n",
            "text/plain": [
              "[1]  4  9 16"
            ]
          },
          "metadata": {}
        }
      ]
    },
    {
      "cell_type": "code",
      "source": [
        "help(sqrt)\n"
      ],
      "metadata": {
        "id": "q134ma7MY2yn"
      },
      "execution_count": null,
      "outputs": []
    },
    {
      "cell_type": "code",
      "source": [
        "x=c(0:10,50)\n",
        "x"
      ],
      "metadata": {
        "colab": {
          "base_uri": "https://localhost:8080/",
          "height": 34
        },
        "id": "eHpWa-2maRHd",
        "outputId": "4877499c-c365-4820-93b8-6cf6ecc27a94"
      },
      "execution_count": null,
      "outputs": [
        {
          "output_type": "display_data",
          "data": {
            "text/html": [
              "<style>\n",
              ".list-inline {list-style: none; margin:0; padding: 0}\n",
              ".list-inline>li {display: inline-block}\n",
              ".list-inline>li:not(:last-child)::after {content: \"\\00b7\"; padding: 0 .5ex}\n",
              "</style>\n",
              "<ol class=list-inline><li>0</li><li>1</li><li>2</li><li>3</li><li>4</li><li>5</li><li>6</li><li>7</li><li>8</li><li>9</li><li>10</li><li>50</li></ol>\n"
            ],
            "text/markdown": "1. 0\n2. 1\n3. 2\n4. 3\n5. 4\n6. 5\n7. 6\n8. 7\n9. 8\n10. 9\n11. 10\n12. 50\n\n\n",
            "text/latex": "\\begin{enumerate*}\n\\item 0\n\\item 1\n\\item 2\n\\item 3\n\\item 4\n\\item 5\n\\item 6\n\\item 7\n\\item 8\n\\item 9\n\\item 10\n\\item 50\n\\end{enumerate*}\n",
            "text/plain": [
              " [1]  0  1  2  3  4  5  6  7  8  9 10 50"
            ]
          },
          "metadata": {}
        }
      ]
    },
    {
      "cell_type": "code",
      "source": [
        "example(mean)"
      ],
      "metadata": {
        "colab": {
          "base_uri": "https://localhost:8080/"
        },
        "id": "Win-8xqPaZQN",
        "outputId": "bca7fc9c-e85d-4c09-ded6-9523db8a0be5"
      },
      "execution_count": null,
      "outputs": [
        {
          "output_type": "stream",
          "name": "stdout",
          "text": [
            "\n",
            "mean> x <- c(0:10, 50)\n",
            "\n",
            "mean> xm <- mean(x)\n",
            "\n",
            "mean> c(xm, mean(x, trim = 0.10))\n",
            "[1] 8.75 5.50\n"
          ]
        }
      ]
    },
    {
      "cell_type": "code",
      "source": [
        "getwd()\n",
        "\n",
        "data <- read.table(\"data.txt\",\n",
        "\t\t\t\t\theader = FALSE, sep = \" \")\n",
        "\n",
        "print(data)\n",
        "\n",
        "print(class(data))\n"
      ],
      "metadata": {
        "colab": {
          "base_uri": "https://localhost:8080/",
          "height": 173
        },
        "id": "YsBPiWB7iav2",
        "outputId": "359b9f11-883a-4d2f-9fc0-1f03b31220a6"
      },
      "execution_count": null,
      "outputs": [
        {
          "output_type": "display_data",
          "data": {
            "text/html": [
              "'/content'"
            ],
            "text/markdown": "'/content'",
            "text/latex": "'/content'",
            "text/plain": [
              "[1] \"/content\""
            ]
          },
          "metadata": {}
        },
        {
          "output_type": "stream",
          "name": "stdout",
          "text": [
            "   V1 V2 V3 V4 V5\n",
            "1 100 NA  A NA  a\n",
            "2 200 NA  B NA  b\n",
            "3 300 NA  C NA  c\n",
            "4 400 NA  D NA  d\n",
            "5 500 NA  E NA  e\n",
            "6 600 NA  F NA  f\n",
            "[1] \"data.frame\"\n"
          ]
        }
      ]
    },
    {
      "cell_type": "code",
      "source": [
        "install.packages(\"xlsx\")\n",
        "getwd()\n",
        "data <- read.xlsx(\"Book1.xlsx\",\n",
        "                   sheetIndex = 1,\n",
        "                   header = FALSE)\n",
        "print(data)\n",
        "print(class(data))"
      ],
      "metadata": {
        "colab": {
          "base_uri": "https://localhost:8080/",
          "height": 352
        },
        "id": "B0KiaFUftOP2",
        "outputId": "c87049e8-1c01-4de2-e21e-c5cb99b83223"
      },
      "execution_count": null,
      "outputs": [
        {
          "output_type": "stream",
          "name": "stderr",
          "text": [
            "Installing package into ‘/usr/local/lib/R/site-library’\n",
            "(as ‘lib’ is unspecified)\n",
            "\n",
            "also installing the dependencies ‘rJava’, ‘xlsxjars’\n",
            "\n",
            "\n",
            "Warning message in install.packages(\"xlsx\"):\n",
            "“installation of package ‘rJava’ had non-zero exit status”\n",
            "Warning message in install.packages(\"xlsx\"):\n",
            "“installation of package ‘xlsxjars’ had non-zero exit status”\n",
            "Warning message in install.packages(\"xlsx\"):\n",
            "“installation of package ‘xlsx’ had non-zero exit status”\n"
          ]
        },
        {
          "output_type": "display_data",
          "data": {
            "text/html": [
              "'/content'"
            ],
            "text/markdown": "'/content'",
            "text/latex": "'/content'",
            "text/plain": [
              "[1] \"/content\""
            ]
          },
          "metadata": {}
        },
        {
          "output_type": "error",
          "ename": "ERROR",
          "evalue": "Error in read.xlsx(\"Book1.xlsx\", sheetIndex = 1, header = FALSE): could not find function \"read.xlsx\"\n",
          "traceback": [
            "Error in read.xlsx(\"Book1.xlsx\", sheetIndex = 1, header = FALSE): could not find function \"read.xlsx\"\nTraceback:\n"
          ]
        }
      ]
    },
    {
      "cell_type": "code",
      "source": [
        "a=2:10\n",
        "a <- c(1,2,5,8)\n",
        "a\n",
        "b <- seq(from=2, to=10 , by=2)\n",
        "b\n",
        "c<-seq(from=2, to=10,by=2)\n",
        "b\n",
        "c <- seq(1,10,3)\n",
        "c\n",
        "d <- seq(from=5,length=20,by=0.2)\n",
        "d\n",
        "d <- seq(2,22, length.out = 7)"
      ],
      "metadata": {
        "colab": {
          "base_uri": "https://localhost:8080/",
          "height": 104
        },
        "id": "mXxyyp44A05-",
        "outputId": "3a9b135d-4ce2-415b-9eee-7ee7d895d5fe"
      },
      "execution_count": null,
      "outputs": [
        {
          "output_type": "display_data",
          "data": {
            "text/html": [
              "<style>\n",
              ".list-inline {list-style: none; margin:0; padding: 0}\n",
              ".list-inline>li {display: inline-block}\n",
              ".list-inline>li:not(:last-child)::after {content: \"\\00b7\"; padding: 0 .5ex}\n",
              "</style>\n",
              "<ol class=list-inline><li>1</li><li>2</li><li>5</li><li>8</li></ol>\n"
            ],
            "text/markdown": "1. 1\n2. 2\n3. 5\n4. 8\n\n\n",
            "text/latex": "\\begin{enumerate*}\n\\item 1\n\\item 2\n\\item 5\n\\item 8\n\\end{enumerate*}\n",
            "text/plain": [
              "[1] 1 2 5 8"
            ]
          },
          "metadata": {}
        },
        {
          "output_type": "display_data",
          "data": {
            "text/html": [
              "<style>\n",
              ".list-inline {list-style: none; margin:0; padding: 0}\n",
              ".list-inline>li {display: inline-block}\n",
              ".list-inline>li:not(:last-child)::after {content: \"\\00b7\"; padding: 0 .5ex}\n",
              "</style>\n",
              "<ol class=list-inline><li>2</li><li>4</li><li>6</li><li>8</li><li>10</li></ol>\n"
            ],
            "text/markdown": "1. 2\n2. 4\n3. 6\n4. 8\n5. 10\n\n\n",
            "text/latex": "\\begin{enumerate*}\n\\item 2\n\\item 4\n\\item 6\n\\item 8\n\\item 10\n\\end{enumerate*}\n",
            "text/plain": [
              "[1]  2  4  6  8 10"
            ]
          },
          "metadata": {}
        },
        {
          "output_type": "display_data",
          "data": {
            "text/html": [
              "<style>\n",
              ".list-inline {list-style: none; margin:0; padding: 0}\n",
              ".list-inline>li {display: inline-block}\n",
              ".list-inline>li:not(:last-child)::after {content: \"\\00b7\"; padding: 0 .5ex}\n",
              "</style>\n",
              "<ol class=list-inline><li>2</li><li>4</li><li>6</li><li>8</li><li>10</li></ol>\n"
            ],
            "text/markdown": "1. 2\n2. 4\n3. 6\n4. 8\n5. 10\n\n\n",
            "text/latex": "\\begin{enumerate*}\n\\item 2\n\\item 4\n\\item 6\n\\item 8\n\\item 10\n\\end{enumerate*}\n",
            "text/plain": [
              "[1]  2  4  6  8 10"
            ]
          },
          "metadata": {}
        },
        {
          "output_type": "display_data",
          "data": {
            "text/html": [
              "<style>\n",
              ".list-inline {list-style: none; margin:0; padding: 0}\n",
              ".list-inline>li {display: inline-block}\n",
              ".list-inline>li:not(:last-child)::after {content: \"\\00b7\"; padding: 0 .5ex}\n",
              "</style>\n",
              "<ol class=list-inline><li>1</li><li>4</li><li>7</li><li>10</li></ol>\n"
            ],
            "text/markdown": "1. 1\n2. 4\n3. 7\n4. 10\n\n\n",
            "text/latex": "\\begin{enumerate*}\n\\item 1\n\\item 4\n\\item 7\n\\item 10\n\\end{enumerate*}\n",
            "text/plain": [
              "[1]  1  4  7 10"
            ]
          },
          "metadata": {}
        },
        {
          "output_type": "display_data",
          "data": {
            "text/html": [
              "<style>\n",
              ".list-inline {list-style: none; margin:0; padding: 0}\n",
              ".list-inline>li {display: inline-block}\n",
              ".list-inline>li:not(:last-child)::after {content: \"\\00b7\"; padding: 0 .5ex}\n",
              "</style>\n",
              "<ol class=list-inline><li>5</li><li>5.2</li><li>5.4</li><li>5.6</li><li>5.8</li><li>6</li><li>6.2</li><li>6.4</li><li>6.6</li><li>6.8</li><li>7</li><li>7.2</li><li>7.4</li><li>7.6</li><li>7.8</li><li>8</li><li>8.2</li><li>8.4</li><li>8.6</li><li>8.8</li></ol>\n"
            ],
            "text/markdown": "1. 5\n2. 5.2\n3. 5.4\n4. 5.6\n5. 5.8\n6. 6\n7. 6.2\n8. 6.4\n9. 6.6\n10. 6.8\n11. 7\n12. 7.2\n13. 7.4\n14. 7.6\n15. 7.8\n16. 8\n17. 8.2\n18. 8.4\n19. 8.6\n20. 8.8\n\n\n",
            "text/latex": "\\begin{enumerate*}\n\\item 5\n\\item 5.2\n\\item 5.4\n\\item 5.6\n\\item 5.8\n\\item 6\n\\item 6.2\n\\item 6.4\n\\item 6.6\n\\item 6.8\n\\item 7\n\\item 7.2\n\\item 7.4\n\\item 7.6\n\\item 7.8\n\\item 8\n\\item 8.2\n\\item 8.4\n\\item 8.6\n\\item 8.8\n\\end{enumerate*}\n",
            "text/plain": [
              " [1] 5.0 5.2 5.4 5.6 5.8 6.0 6.2 6.4 6.6 6.8 7.0 7.2 7.4 7.6 7.8 8.0 8.2 8.4 8.6\n",
              "[20] 8.8"
            ]
          },
          "metadata": {}
        }
      ]
    },
    {
      "cell_type": "code",
      "source": [
        "r=rep(3,10)\n",
        "print(r)"
      ],
      "metadata": {
        "colab": {
          "base_uri": "https://localhost:8080/"
        },
        "id": "yEEM3SPqETzC",
        "outputId": "81fdbe14-9270-4f6f-f57c-accce7dd957e"
      },
      "execution_count": null,
      "outputs": [
        {
          "output_type": "stream",
          "name": "stdout",
          "text": [
            " [1] 3 3 3 3 3 3 3 3 3 3\n"
          ]
        }
      ]
    },
    {
      "cell_type": "code",
      "source": [
        "country<- c(\"India\"=100,\"Pakistan\"=50,\"China\"=125)\n",
        "country"
      ],
      "metadata": {
        "colab": {
          "base_uri": "https://localhost:8080/",
          "height": 34
        },
        "id": "bQJeVbUiFAev",
        "outputId": "dabc06e4-d717-4a25-fedb-d40675facf3e"
      },
      "execution_count": null,
      "outputs": [
        {
          "output_type": "display_data",
          "data": {
            "text/html": [
              "<style>\n",
              ".dl-inline {width: auto; margin:0; padding: 0}\n",
              ".dl-inline>dt, .dl-inline>dd {float: none; width: auto; display: inline-block}\n",
              ".dl-inline>dt::after {content: \":\\0020\"; padding-right: .5ex}\n",
              ".dl-inline>dt:not(:first-of-type) {padding-left: .5ex}\n",
              "</style><dl class=dl-inline><dt>India</dt><dd>100</dd><dt>Pakistan</dt><dd>50</dd><dt>China</dt><dd>125</dd></dl>\n"
            ],
            "text/markdown": "India\n:   100Pakistan\n:   50China\n:   125\n\n",
            "text/latex": "\\begin{description*}\n\\item[India] 100\n\\item[Pakistan] 50\n\\item[China] 125\n\\end{description*}\n",
            "text/plain": [
              "   India Pakistan    China \n",
              "     100       50      125 "
            ]
          },
          "metadata": {}
        }
      ]
    },
    {
      "cell_type": "code",
      "source": [
        "#G5_unit1_topicname"
      ],
      "metadata": {
        "id": "DkdddfW6Faj6"
      },
      "execution_count": null,
      "outputs": []
    },
    {
      "cell_type": "code",
      "source": [
        "country [\"India\"]"
      ],
      "metadata": {
        "colab": {
          "base_uri": "https://localhost:8080/",
          "height": 34
        },
        "id": "eYw1j1V6HyfX",
        "outputId": "a2c40e35-d18c-4127-df8b-6fe3166e157c"
      },
      "execution_count": null,
      "outputs": [
        {
          "output_type": "display_data",
          "data": {
            "text/html": [
              "<strong>India:</strong> 100"
            ],
            "text/markdown": "**India:** 100",
            "text/latex": "\\textbf{India:} 100",
            "text/plain": [
              "India \n",
              "  100 "
            ]
          },
          "metadata": {}
        }
      ]
    },
    {
      "cell_type": "code",
      "source": [
        "population <- c(100,50,125)\n",
        "country <- c(\"India\",\"Pakistan\",\"China\")\n",
        "names(population) <- country\n",
        "population"
      ],
      "metadata": {
        "colab": {
          "base_uri": "https://localhost:8080/",
          "height": 34
        },
        "id": "SPOpR8pxIA2S",
        "outputId": "706582f8-96d9-448d-f93e-bad48d4d0c4c"
      },
      "execution_count": null,
      "outputs": [
        {
          "output_type": "display_data",
          "data": {
            "text/html": [
              "<style>\n",
              ".dl-inline {width: auto; margin:0; padding: 0}\n",
              ".dl-inline>dt, .dl-inline>dd {float: none; width: auto; display: inline-block}\n",
              ".dl-inline>dt::after {content: \":\\0020\"; padding-right: .5ex}\n",
              ".dl-inline>dt:not(:first-of-type) {padding-left: .5ex}\n",
              "</style><dl class=dl-inline><dt>India</dt><dd>100</dd><dt>Pakistan</dt><dd>50</dd><dt>China</dt><dd>125</dd></dl>\n"
            ],
            "text/markdown": "India\n:   100Pakistan\n:   50China\n:   125\n\n",
            "text/latex": "\\begin{description*}\n\\item[India] 100\n\\item[Pakistan] 50\n\\item[China] 125\n\\end{description*}\n",
            "text/plain": [
              "   India Pakistan    China \n",
              "     100       50      125 "
            ]
          },
          "metadata": {}
        }
      ]
    },
    {
      "cell_type": "code",
      "source": [
        "k=c(5,4,6,7)\n",
        "d <- (k<=4)\n",
        "d"
      ],
      "metadata": {
        "colab": {
          "base_uri": "https://localhost:8080/",
          "height": 34
        },
        "id": "6qF-SNOHJgBp",
        "outputId": "223d2fc4-abc7-4723-b827-2aa1731abac2"
      },
      "execution_count": null,
      "outputs": [
        {
          "output_type": "display_data",
          "data": {
            "text/html": [
              "<style>\n",
              ".list-inline {list-style: none; margin:0; padding: 0}\n",
              ".list-inline>li {display: inline-block}\n",
              ".list-inline>li:not(:last-child)::after {content: \"\\00b7\"; padding: 0 .5ex}\n",
              "</style>\n",
              "<ol class=list-inline><li>FALSE</li><li>TRUE</li><li>FALSE</li><li>FALSE</li></ol>\n"
            ],
            "text/markdown": "1. FALSE\n2. TRUE\n3. FALSE\n4. FALSE\n\n\n",
            "text/latex": "\\begin{enumerate*}\n\\item FALSE\n\\item TRUE\n\\item FALSE\n\\item FALSE\n\\end{enumerate*}\n",
            "text/plain": [
              "[1] FALSE  TRUE FALSE FALSE"
            ]
          },
          "metadata": {}
        }
      ]
    },
    {
      "cell_type": "code",
      "source": [
        "a <- c(2,3,4)\n",
        "b <- c(10,20,10)\n",
        "a+b\n",
        "a*b\n",
        "a/b\n",
        "a^2"
      ],
      "metadata": {
        "colab": {
          "base_uri": "https://localhost:8080/",
          "height": 86
        },
        "id": "qAtpMxUBKXW1",
        "outputId": "432bbb30-0666-4b57-c0ca-4d2a45a2507c"
      },
      "execution_count": null,
      "outputs": [
        {
          "output_type": "display_data",
          "data": {
            "text/html": [
              "<style>\n",
              ".list-inline {list-style: none; margin:0; padding: 0}\n",
              ".list-inline>li {display: inline-block}\n",
              ".list-inline>li:not(:last-child)::after {content: \"\\00b7\"; padding: 0 .5ex}\n",
              "</style>\n",
              "<ol class=list-inline><li>12</li><li>23</li><li>14</li></ol>\n"
            ],
            "text/markdown": "1. 12\n2. 23\n3. 14\n\n\n",
            "text/latex": "\\begin{enumerate*}\n\\item 12\n\\item 23\n\\item 14\n\\end{enumerate*}\n",
            "text/plain": [
              "[1] 12 23 14"
            ]
          },
          "metadata": {}
        },
        {
          "output_type": "display_data",
          "data": {
            "text/html": [
              "<style>\n",
              ".list-inline {list-style: none; margin:0; padding: 0}\n",
              ".list-inline>li {display: inline-block}\n",
              ".list-inline>li:not(:last-child)::after {content: \"\\00b7\"; padding: 0 .5ex}\n",
              "</style>\n",
              "<ol class=list-inline><li>20</li><li>60</li><li>40</li></ol>\n"
            ],
            "text/markdown": "1. 20\n2. 60\n3. 40\n\n\n",
            "text/latex": "\\begin{enumerate*}\n\\item 20\n\\item 60\n\\item 40\n\\end{enumerate*}\n",
            "text/plain": [
              "[1] 20 60 40"
            ]
          },
          "metadata": {}
        },
        {
          "output_type": "display_data",
          "data": {
            "text/html": [
              "<style>\n",
              ".list-inline {list-style: none; margin:0; padding: 0}\n",
              ".list-inline>li {display: inline-block}\n",
              ".list-inline>li:not(:last-child)::after {content: \"\\00b7\"; padding: 0 .5ex}\n",
              "</style>\n",
              "<ol class=list-inline><li>0.2</li><li>0.15</li><li>0.4</li></ol>\n"
            ],
            "text/markdown": "1. 0.2\n2. 0.15\n3. 0.4\n\n\n",
            "text/latex": "\\begin{enumerate*}\n\\item 0.2\n\\item 0.15\n\\item 0.4\n\\end{enumerate*}\n",
            "text/plain": [
              "[1] 0.20 0.15 0.40"
            ]
          },
          "metadata": {}
        },
        {
          "output_type": "display_data",
          "data": {
            "text/html": [
              "<style>\n",
              ".list-inline {list-style: none; margin:0; padding: 0}\n",
              ".list-inline>li {display: inline-block}\n",
              ".list-inline>li:not(:last-child)::after {content: \"\\00b7\"; padding: 0 .5ex}\n",
              "</style>\n",
              "<ol class=list-inline><li>4</li><li>9</li><li>16</li></ol>\n"
            ],
            "text/markdown": "1. 4\n2. 9\n3. 16\n\n\n",
            "text/latex": "\\begin{enumerate*}\n\\item 4\n\\item 9\n\\item 16\n\\end{enumerate*}\n",
            "text/plain": [
              "[1]  4  9 16"
            ]
          },
          "metadata": {}
        }
      ]
    },
    {
      "cell_type": "code",
      "source": [
        "x <- 25.2578912345\n",
        "format(round(x,2),nsmall=2)"
      ],
      "metadata": {
        "colab": {
          "base_uri": "https://localhost:8080/",
          "height": 34
        },
        "id": "1Nne0QTsK6hN",
        "outputId": "7ae909c6-c81e-4798-9985-b79726315176"
      },
      "execution_count": null,
      "outputs": [
        {
          "output_type": "display_data",
          "data": {
            "text/html": [
              "'25.26'"
            ],
            "text/markdown": "'25.26'",
            "text/latex": "'25.26'",
            "text/plain": [
              "[1] \"25.26\""
            ]
          },
          "metadata": {}
        }
      ]
    },
    {
      "cell_type": "code",
      "source": [
        "cat(\"Everyone\",\"is\",\"a\",\"programmer\")\n",
        "paste(\"Everyone\",\"is\",\"a\",\"coder\")\n",
        "cat(\"everyone\",\"is\",\"a\",\"programmer\",sep=\"*\")"
      ],
      "metadata": {
        "colab": {
          "base_uri": "https://localhost:8080/",
          "height": 69
        },
        "id": "GxPHoBiYNNMh",
        "outputId": "ab9ef839-6baf-4d45-dce3-cb7cbfbf17b1"
      },
      "execution_count": null,
      "outputs": [
        {
          "output_type": "stream",
          "name": "stdout",
          "text": [
            "Everyone is a programmer"
          ]
        },
        {
          "output_type": "display_data",
          "data": {
            "text/html": [
              "'Everyone is a coder'"
            ],
            "text/markdown": "'Everyone is a coder'",
            "text/latex": "'Everyone is a coder'",
            "text/plain": [
              "[1] \"Everyone is a coder\""
            ]
          },
          "metadata": {}
        },
        {
          "output_type": "stream",
          "name": "stdout",
          "text": [
            "everyone*is*a*programmer"
          ]
        }
      ]
    },
    {
      "cell_type": "code",
      "source": [
        "x <- c(10,20,30,45,78)\n",
        "x[1]\n",
        "x[2:4]"
      ],
      "metadata": {
        "colab": {
          "base_uri": "https://localhost:8080/",
          "height": 52
        },
        "id": "WAxcebUOOhVJ",
        "outputId": "92bff24d-095c-46ab-9c93-b32198012bf8"
      },
      "execution_count": null,
      "outputs": [
        {
          "output_type": "display_data",
          "data": {
            "text/html": [
              "10"
            ],
            "text/markdown": "10",
            "text/latex": "10",
            "text/plain": [
              "[1] 10"
            ]
          },
          "metadata": {}
        },
        {
          "output_type": "display_data",
          "data": {
            "text/html": [
              "<style>\n",
              ".list-inline {list-style: none; margin:0; padding: 0}\n",
              ".list-inline>li {display: inline-block}\n",
              ".list-inline>li:not(:last-child)::after {content: \"\\00b7\"; padding: 0 .5ex}\n",
              "</style>\n",
              "<ol class=list-inline><li>20</li><li>30</li><li>45</li></ol>\n"
            ],
            "text/markdown": "1. 20\n2. 30\n3. 45\n\n\n",
            "text/latex": "\\begin{enumerate*}\n\\item 20\n\\item 30\n\\item 45\n\\end{enumerate*}\n",
            "text/plain": [
              "[1] 20 30 45"
            ]
          },
          "metadata": {}
        }
      ]
    }
  ]
}